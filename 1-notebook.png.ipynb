{
 "cells": [
  {
   "cell_type": "markdown",
   "metadata": {},
   "source": [
    "<center>\n",
    "    <img src=\"https://cf-courses-data.s3.us.cloud-object-storage.appdomain.cloud/IBMDeveloperSkillsNetwork-DS0105EN-SkillsNetwork/labs/Module2/images/SN_web_lightmode.png\" width=\"300\" alt=\"cognitiveclass.ai logo\">\n",
    "</center>\n"
   ]
  },
  {
   "cell_type": "markdown",
   "metadata": {},
   "source": [
    "# Hands-on Lab: Create your Jupyter Notebook\n"
   ]
  },
  {
   "cell_type": "markdown",
   "metadata": {},
   "source": [
    "#### Add your code below following the instructions given in the course\n"
   ]
  },
  {
   "cell_type": "code",
   "execution_count": null,
   "metadata": {},
   "outputs": [],
   "source": []
  },
  {
   "cell_type": "markdown",
   "metadata": {},
   "source": [
    "Copyright ©2024 IBM Corporation. All rights reserved.\n"
   ]
  },
  {
   "cell_type": "markdown",
   "metadata": {},
   "source": [
    "1-notebook.png"
   ]
  },
  {
   "cell_type": "markdown",
   "metadata": {},
   "source": [
    "title : 2-title.png"
   ]
  },
  {
   "cell_type": "markdown",
   "metadata": {},
   "source": [
    "Hi ! welcome to the Jupyter notebbok"
   ]
  },
  {
   "cell_type": "markdown",
   "metadata": {},
   "source": [
    "Data science involves the use of various programming languages, each suited to different tasks. Below is an ordered list of commonly used languages in data science:\n",
    "\n",
    "1. Python  \n",
    "2. R  \n",
    "3. SQL  \n",
    "4. Julia  \n",
    "5. Scala  \n",
    "6. Java  \n",
    "7. MATLAB\n"
   ]
  },
  {
   "cell_type": "markdown",
   "metadata": {},
   "source": [
    "Data science tasks are greatly simplified with the help of specialized libraries. Below is an ordered list of widely used data science libraries:\n",
    "\n",
    "1. NumPy – For numerical computing and array operations  \n",
    "2. pandas – For data manipulation and analysis  \n",
    "3. Matplotlib – For data visualization  \n",
    "4. Seaborn – For statistical data visualization  \n",
    "5. Scikit-learn – For machine learning algorithms  \n",
    "6. TensorFlow – For deep learning and neural networks  \n",
    "7. PyTorch – For flexible deep learning research and development\n"
   ]
  },
  {
   "cell_type": "markdown",
   "metadata": {},
   "source": [
    "Data science professionals use a variety of tools to perform tasks such as data cleaning, analysis, visualization, and modeling. The table below lists some popular data science tools along with their primary use cases:\n",
    "\n",
    "| Tool           | Category               | Primary Use Case                         |\n",
    "|----------------|------------------------|-------------------------------------------|\n",
    "| Jupyter Notebook | IDE / Notebook        | Interactive computing and visualization   |\n",
    "| RStudio        | IDE                    | Statistical computing and graphics        |\n",
    "| Apache Spark   | Big Data Processing    | Distributed data processing               |\n",
    "| Tableau        | Data Visualization     | Business intelligence and dashboarding    |\n",
    "| Power BI       | Data Visualization     | Interactive visual analytics              |\n",
    "| SAS            | Statistical Analysis   | Advanced analytics and predictive modeling|\n",
    "| RapidMiner     | Data Mining / ML       | Visual workflow-based machine learning    |\n"
   ]
  },
  {
   "cell_type": "markdown",
   "metadata": {},
   "source": [
    "Arithmetic expressions are fundamental in programming and data analysis, allowing for the evaluation of mathematical operations. Below are a few simple examples of arithmetic expressions:\n",
    "\n",
    "- `5 + 3` → Addition  \n",
    "- `10 - 2` → Subtraction  \n",
    "- `4 * 6` → Multiplication  \n",
    "- `8 / 2` → Division  \n",
    "- `7 % 3` → Modulus (remainder)  \n",
    "- `2 ** 3` → Exponentiation  \n",
    "- `(5 + 3) * 2` → Grouped expression with parentheses\n"
   ]
  },
  {
   "cell_type": "code",
   "execution_count": 1,
   "metadata": {},
   "outputs": [
    {
     "name": "stdout",
     "output_type": "stream",
     "text": [
      "Multiplication: 15\n",
      "Addition: 8\n"
     ]
    }
   ],
   "source": [
    "# Multiplying and adding numbers\n",
    "a = 5\n",
    "b = 3\n",
    "\n",
    "# Multiply\n",
    "product = a * b\n",
    "\n",
    "# Add\n",
    "sum_result = a + b\n",
    "\n",
    "print(\"Multiplication:\", product)\n",
    "print(\"Addition:\", sum_result)\n"
   ]
  },
  {
   "cell_type": "code",
   "execution_count": 2,
   "metadata": {},
   "outputs": [
    {
     "name": "stdout",
     "output_type": "stream",
     "text": [
      "150 minutes is equal to 2.5 hours.\n"
     ]
    }
   ],
   "source": [
    "# Convert minutes to hours\n",
    "minutes = 150\n",
    "\n",
    "# Conversion logic\n",
    "hours = minutes / 60\n",
    "\n",
    "print(f\"{minutes} minutes is equal to {hours} hours.\")\n"
   ]
  },
  {
   "cell_type": "markdown",
   "metadata": {},
   "source": [
    "Data scientists use a variety of skills and tools to extract insights from data. Below is a list of some key components involved in the data science workflow:\n",
    "\n",
    "- Data collection  \n",
    "- Data cleaning and preprocessing  \n",
    "- Data analysis  \n",
    "- Data visualization  \n",
    "- Machine learning modeling  \n",
    "- Model evaluation and deployment  \n",
    "- Communication of results\n"
   ]
  },
  {
   "cell_type": "markdown",
   "metadata": {},
   "source": [
    "**Author:** Sohom Mukherjee  \n",
    "**Date:** June 7, 2025  \n",
    "**Project:** Data Science Basics\n"
   ]
  },
  {
   "cell_type": "code",
   "execution_count": null,
   "metadata": {},
   "outputs": [],
   "source": []
  }
 ],
 "metadata": {
  "kernelspec": {
   "display_name": "Python 3 (ipykernel)",
   "language": "python",
   "name": "python3"
  },
  "language_info": {
   "codemirror_mode": {
    "name": "ipython",
    "version": 3
   },
   "file_extension": ".py",
   "mimetype": "text/x-python",
   "name": "python",
   "nbconvert_exporter": "python",
   "pygments_lexer": "ipython3",
   "version": "3.13.2"
  },
  "prev_pub_hash": "9e1985db9844176462bd1d5863048c9f3d17404bbc6a648be9084b0c42b29347"
 },
 "nbformat": 4,
 "nbformat_minor": 4
}
